{
 "cells": [
  {
   "cell_type": "code",
   "execution_count": 1,
   "id": "532032ae-cbc4-4a31-87b6-641fd83057a4",
   "metadata": {},
   "outputs": [
    {
     "name": "stdout",
     "output_type": "stream",
     "text": [
      "Requirement already satisfied: sentence-transformers in /opt/conda/lib/python3.12/site-packages (4.1.0)\n",
      "Requirement already satisfied: transformers<5.0.0,>=4.41.0 in /opt/conda/lib/python3.12/site-packages (from sentence-transformers) (4.51.3)\n",
      "Requirement already satisfied: tqdm in /opt/conda/lib/python3.12/site-packages (from sentence-transformers) (4.67.1)\n",
      "Requirement already satisfied: torch>=1.11.0 in /opt/conda/lib/python3.12/site-packages (from sentence-transformers) (2.5.1)\n",
      "Requirement already satisfied: scikit-learn in /opt/conda/lib/python3.12/site-packages (from sentence-transformers) (1.5.2)\n",
      "Requirement already satisfied: scipy in /opt/conda/lib/python3.12/site-packages (from sentence-transformers) (1.15.2)\n",
      "Requirement already satisfied: huggingface-hub>=0.20.0 in /opt/conda/lib/python3.12/site-packages (from sentence-transformers) (0.30.2)\n",
      "Requirement already satisfied: Pillow in /opt/conda/lib/python3.12/site-packages (from sentence-transformers) (11.1.0)\n",
      "Requirement already satisfied: typing_extensions>=4.5.0 in /opt/conda/lib/python3.12/site-packages (from sentence-transformers) (4.13.2)\n",
      "Requirement already satisfied: filelock in /opt/conda/lib/python3.12/site-packages (from huggingface-hub>=0.20.0->sentence-transformers) (3.18.0)\n",
      "Requirement already satisfied: fsspec>=2023.5.0 in /opt/conda/lib/python3.12/site-packages (from huggingface-hub>=0.20.0->sentence-transformers) (2024.10.0)\n",
      "Requirement already satisfied: packaging>=20.9 in /opt/conda/lib/python3.12/site-packages (from huggingface-hub>=0.20.0->sentence-transformers) (24.2)\n",
      "Requirement already satisfied: pyyaml>=5.1 in /opt/conda/lib/python3.12/site-packages (from huggingface-hub>=0.20.0->sentence-transformers) (6.0.2)\n",
      "Requirement already satisfied: requests in /opt/conda/lib/python3.12/site-packages (from huggingface-hub>=0.20.0->sentence-transformers) (2.32.3)\n",
      "Requirement already satisfied: setuptools in /opt/conda/lib/python3.12/site-packages (from torch>=1.11.0->sentence-transformers) (80.1.0)\n",
      "Requirement already satisfied: sympy!=1.13.2,>=1.13.1 in /opt/conda/lib/python3.12/site-packages (from torch>=1.11.0->sentence-transformers) (1.14.0)\n",
      "Requirement already satisfied: networkx in /opt/conda/lib/python3.12/site-packages (from torch>=1.11.0->sentence-transformers) (3.4.2)\n",
      "Requirement already satisfied: jinja2 in /opt/conda/lib/python3.12/site-packages (from torch>=1.11.0->sentence-transformers) (3.1.6)\n",
      "Requirement already satisfied: numpy>=1.17 in /opt/conda/lib/python3.12/site-packages (from transformers<5.0.0,>=4.41.0->sentence-transformers) (1.26.4)\n",
      "Requirement already satisfied: regex!=2019.12.17 in /opt/conda/lib/python3.12/site-packages (from transformers<5.0.0,>=4.41.0->sentence-transformers) (2024.11.6)\n",
      "Requirement already satisfied: tokenizers<0.22,>=0.21 in /opt/conda/lib/python3.12/site-packages (from transformers<5.0.0,>=4.41.0->sentence-transformers) (0.21.1)\n",
      "Requirement already satisfied: safetensors>=0.4.3 in /opt/conda/lib/python3.12/site-packages (from transformers<5.0.0,>=4.41.0->sentence-transformers) (0.5.3)\n",
      "Requirement already satisfied: joblib>=1.2.0 in /opt/conda/lib/python3.12/site-packages (from scikit-learn->sentence-transformers) (1.5.0)\n",
      "Requirement already satisfied: threadpoolctl>=3.1.0 in /opt/conda/lib/python3.12/site-packages (from scikit-learn->sentence-transformers) (3.6.0)\n",
      "Requirement already satisfied: mpmath<1.4,>=1.1.0 in /opt/conda/lib/python3.12/site-packages (from sympy!=1.13.2,>=1.13.1->torch>=1.11.0->sentence-transformers) (1.3.0)\n",
      "Requirement already satisfied: MarkupSafe>=2.0 in /opt/conda/lib/python3.12/site-packages (from jinja2->torch>=1.11.0->sentence-transformers) (3.0.2)\n",
      "Requirement already satisfied: charset_normalizer<4,>=2 in /opt/conda/lib/python3.12/site-packages (from requests->huggingface-hub>=0.20.0->sentence-transformers) (3.4.2)\n",
      "Requirement already satisfied: idna<4,>=2.5 in /opt/conda/lib/python3.12/site-packages (from requests->huggingface-hub>=0.20.0->sentence-transformers) (3.10)\n",
      "Requirement already satisfied: urllib3<3,>=1.21.1 in /opt/conda/lib/python3.12/site-packages (from requests->huggingface-hub>=0.20.0->sentence-transformers) (2.4.0)\n",
      "Requirement already satisfied: certifi>=2017.4.17 in /opt/conda/lib/python3.12/site-packages (from requests->huggingface-hub>=0.20.0->sentence-transformers) (2025.1.31)\n"
     ]
    }
   ],
   "source": [
    "!pip install -U sentence-transformers"
   ]
  },
  {
   "cell_type": "code",
   "execution_count": 2,
   "id": "b6b5316f-da18-4e68-b479-cdb1bfa6fcd5",
   "metadata": {},
   "outputs": [
    {
     "name": "stderr",
     "output_type": "stream",
     "text": [
      "2025-05-22 14:54:54.318903: I tensorflow/core/platform/cpu_feature_guard.cc:210] This TensorFlow binary is optimized to use available CPU instructions in performance-critical operations.\n",
      "To enable the following instructions: SSE4.1 SSE4.2 AVX AVX2 AVX512F FMA, in other operations, rebuild TensorFlow with the appropriate compiler flags.\n"
     ]
    }
   ],
   "source": [
    "from sentence_transformers import SentenceTransformer, util\n",
    "\n",
    "# Load once globally\n",
    "embedding_model = SentenceTransformer(\"all-MiniLM-L6-v2\") "
   ]
  },
  {
   "cell_type": "code",
   "execution_count": 3,
   "id": "34a60dea-6929-43bb-a295-868b71107061",
   "metadata": {},
   "outputs": [],
   "source": [
    "import json\n",
    "import re\n",
    "import openai\n",
    "import json5\n",
    "import pandas as pd\n",
    "import numpy as np\n",
    "import random\n",
    "import sys\n",
    "import os\n",
    "sys.path.append(os.path.abspath(\"..\"))\n",
    "import matplotlib.pyplot as plt\n",
    "import networkx as nx"
   ]
  },
  {
   "cell_type": "code",
   "execution_count": 4,
   "id": "469974eb-5dfe-49e4-ba81-debe97df61e4",
   "metadata": {},
   "outputs": [
    {
     "data": {
      "text/plain": [
       "<module 'src.semantic_matcher' from '/home/sagemaker-user/auto-audience-generator/src/semantic_matcher.py'>"
      ]
     },
     "execution_count": 4,
     "metadata": {},
     "output_type": "execute_result"
    }
   ],
   "source": [
    "import importlib\n",
    "import src.graph_builder\n",
    "import src.graph_queries\n",
    "import src.prompt_to_rules\n",
    "import src.semantic_matcher\n",
    "importlib.reload(src.graph_queries)\n",
    "importlib.reload(src.prompt_to_rules)\n",
    "importlib.reload(src.semantic_matcher)"
   ]
  },
  {
   "cell_type": "code",
   "execution_count": 5,
   "id": "5edf3eb5-49c4-4ad3-bcb1-a8528007b367",
   "metadata": {},
   "outputs": [],
   "source": [
    "from src.graph_builder import build_knowledge_graph_from_config\n",
    "from src.graph_queries import apply_persona_to_graph\n",
    "from src.graph_queries import apply_logical_rule\n",
    "from src.prompt_to_rules import extract_rules_from_prompt_llm2\n",
    "from src.prompt_to_rules import extract_rules_from_prompt_llm3\n",
    "from src.semantic_matcher import SemanticMatcher"
   ]
  },
  {
   "cell_type": "code",
   "execution_count": 6,
   "id": "1af0e8b9-794b-4abe-8ddf-561078c83c81",
   "metadata": {},
   "outputs": [],
   "source": [
    "# Set seed for reproducibility\n",
    "np.random.seed(42)\n",
    "\n",
    "# Generate Users Dataset\n",
    "user_ids = [f\"user_{i}\" for i in range(100)]\n",
    "ages = np.random.randint(18, 70, size=100)\n",
    "genders = np.random.choice(['Male', 'Female', 'Other'], size=100)\n",
    "locations = np.random.choice(['California', 'New York', 'Texas', 'Florida', 'Illinois'], size=100)\n",
    "education_levels = np.random.choice(['High School', 'Bachelor', 'Master', 'PhD', 'College Senior'], size=100)\n",
    "\n",
    "users_df = pd.DataFrame({\n",
    "    'user_id': user_ids,\n",
    "    'age': ages,\n",
    "    'gender': genders,\n",
    "    'location': locations,\n",
    "    'education_level': education_levels\n",
    "})\n",
    "users_df.to_csv(\"../data/users.csv\", index=False)\n",
    "\n",
    "# Generate Products Dataset\n",
    "product_ids = [f\"prod_{i}\" for i in range(100)]\n",
    "categories = np.random.choice(['Electronics', 'Books', 'Fitness', 'Crypto', 'Gaming'], size=100)\n",
    "tags = np.random.choice(['blockchain', 'sports', 'AI', 'yoga', 'finance'], size=100)\n",
    "\n",
    "products_df = pd.DataFrame({\n",
    "    'product_id': product_ids,\n",
    "    'category': categories,\n",
    "    'tag': tags\n",
    "})\n",
    "products_df.to_csv(\"../data/products.csv\", index=False)\n",
    "\n",
    "# Generate Orders Dataset\n",
    "orders = []\n",
    "for _ in range(200):\n",
    "    orders.append({\n",
    "        'user_id': random.choice(user_ids),\n",
    "        'order_id': f\"order_{random.randint(1, 1000)}\",\n",
    "        'product_id': random.choice(product_ids),\n",
    "        'order_date': pd.Timestamp('2024-01-01') + pd.to_timedelta(random.randint(0, 100), unit='d')\n",
    "    })\n",
    "orders_df = pd.DataFrame(orders)\n",
    "orders_df.to_csv(\"../data/orders.csv\", index=False)\n",
    "\n",
    "# Generate Streaming Dataset\n",
    "content_names = [f\"content_{i}\" for i in range(100)]\n",
    "genres = np.random.choice(['sports', 'technology', 'crypto', 'fitness', 'news'], size=100)\n",
    "streaming = []\n",
    "for _ in range(200):\n",
    "    streaming.append({\n",
    "        'user_id': random.choice(user_ids),\n",
    "        'content_name': random.choice(content_names),\n",
    "        'timestamp': pd.Timestamp('2024-01-01') + pd.to_timedelta(random.randint(0, 100), unit='d'),\n",
    "        'genre': random.choice(genres),\n",
    "        'watch_duration': random.randint(5, 120)\n",
    "    })\n",
    "streaming_df = pd.DataFrame(streaming)\n",
    "streaming_df.to_csv(\"../data/streaming.csv\", index=False)\n"
   ]
  },
  {
   "cell_type": "code",
   "execution_count": 7,
   "id": "abc607f2-5546-420d-9514-7e6ad6822dd9",
   "metadata": {},
   "outputs": [
    {
     "name": "stdout",
     "output_type": "stream",
     "text": [
      "✅ Graph successfully created\n",
      "Number of nodes: 300\n",
      "Number of edges: 661\n"
     ]
    }
   ],
   "source": [
    "G = build_knowledge_graph_from_config(\n",
    "    \"../config/graph_schema.json\",\n",
    "    {\n",
    "        \"users\": \"../data/users.csv\",\n",
    "        \"products\": \"../data/products.csv\",\n",
    "        \"orders\": \"../data/orders.csv\",\n",
    "        \"streaming\": \"../data/streaming.csv\"\n",
    "    }\n",
    ")"
   ]
  },
  {
   "cell_type": "code",
   "execution_count": 8,
   "id": "8dec95c3-7966-42a1-8ff1-0764387d4edc",
   "metadata": {},
   "outputs": [
    {
     "data": {
      "image/png": "[encoded data removed]",
      "text/plain": [
       "<Figure size 1000x600 with 1 Axes>"
      ]
     },
     "metadata": {},
     "output_type": "display_data"
    }
   ],
   "source": [
    "sub_nodes = list(G.successors('user_0')) + ['user_0']\n",
    "subgraph = G.subgraph(sub_nodes)\n",
    "\n",
    "plt.figure(figsize=(10, 6))\n",
    "nx.draw(subgraph, with_labels=True, node_size=800, node_color='lightblue', font_size=10)\n",
    "plt.title(\"Subgraph around user_0\")\n",
    "plt.show()"
   ]
  },
  {
   "cell_type": "code",
   "execution_count": 9,
   "id": "19303f82-e745-4c49-b6f3-7d2200e39ac5",
   "metadata": {},
   "outputs": [
    {
     "name": "stdout",
     "output_type": "stream",
     "text": [
      "Extracted Persona Rule: {'persona': {'tag': ['blockchain', 'cryptocurrency'], 'genre': ['technology', 'finance']}}\n",
      "Final Audience: {'user_63', 'user_22', 'user_89', 'user_14', 'user_39', 'user_27', 'user_70', 'user_26', 'user_2', 'user_77', 'user_36', 'user_92', 'user_43', 'user_61', 'user_25', 'user_86', 'user_23', 'user_51', 'user_7', 'user_55', 'user_1', 'user_93', 'user_21', 'user_10', 'user_13', 'user_24', 'user_31', 'user_71', 'user_62'}\n"
     ]
    }
   ],
   "source": [
    "prompt = \"Find crypto enthusiasts\"\n",
    "rules = extract_rules_from_prompt_llm2(prompt)\n",
    "print(\"Extracted Persona Rule:\", rules)\n",
    "\n",
    "audience = apply_persona_to_graph(G, rules[\"persona\"])\n",
    "print(\"Final Audience:\", audience)"
   ]
  },
  {
   "cell_type": "code",
   "execution_count": 10,
   "id": "b8ff9385-c492-4fb8-9947-162fba5b1f4f",
   "metadata": {},
   "outputs": [
    {
     "name": "stdout",
     "output_type": "stream",
     "text": [
      "Extracted Persona Rule: {'persona': {'tag': ['investing'], 'genre': ['finance', 'business']}}\n",
      "Final Audience: {'user_87', 'user_22', 'user_59', 'user_69', 'user_14', 'user_84', 'user_91', 'user_27', 'user_48', 'user_26', 'user_2', 'user_47', 'user_96', 'user_28', 'user_73', 'user_77', 'user_36', 'user_82', 'user_66', 'user_95', 'user_43', 'user_61', 'user_64', 'user_11', 'user_25', 'user_23', 'user_86', 'user_44', 'user_90', 'user_20', 'user_7', 'user_1', 'user_97', 'user_52', 'user_76', 'user_58', 'user_45', 'user_18', 'user_57', 'user_74', 'user_88', 'user_32', 'user_78', 'user_21', 'user_10', 'user_24', 'user_31', 'user_75'}\n"
     ]
    }
   ],
   "source": [
    "prompt = \"Find users interested in investing\"\n",
    "rules = extract_rules_from_prompt_llm2(prompt)\n",
    "print(\"Extracted Persona Rule:\", rules)\n",
    "\n",
    "audience = apply_persona_to_graph(G, rules[\"persona\"])\n",
    "print(\"Final Audience:\", audience)"
   ]
  },
  {
   "cell_type": "code",
   "execution_count": 11,
   "id": "cd84aec4-e56b-4e63-a632-deca70d54ca5",
   "metadata": {},
   "outputs": [
    {
     "name": "stdout",
     "output_type": "stream",
     "text": [
      "Extracted Persona Rule: {'persona': {'education_level': 'High School Junior, High School Senior, College Freshman, College Sophomore, College Junior, College Senior', 'tag': ['education'], 'genre': ['education', 'career']}}\n",
      "Final Audience: set()\n"
     ]
    }
   ],
   "source": [
    "prompt = \"Find users interested in education\"\n",
    "rules = extract_rules_from_prompt_llm2(prompt)\n",
    "print(\"Extracted Persona Rule:\", rules)\n",
    "\n",
    "audience = apply_persona_to_graph(G, rules[\"persona\"])\n",
    "print(\"Final Audience:\", audience)"
   ]
  },
  {
   "cell_type": "code",
   "execution_count": 12,
   "id": "cc56aa9e-79f0-41ce-af05-5b1d0d33d6b2",
   "metadata": {},
   "outputs": [
    {
     "name": "stdout",
     "output_type": "stream",
     "text": [
      "Extracted Persona Rule: {'persona': {'age': {'operator': '>=', 'value': 21}, 'education_level': 'College Senior', 'tag': ['job prep', 'career'], 'genre': ['technology', 'education']}}\n",
      "Final Audience: {'user_63', 'user_69', 'user_80', 'user_89', 'user_39', 'user_99', 'user_19', 'user_27', 'user_30', 'user_68', 'user_48', 'user_0', 'user_16', 'user_26', 'user_70', 'user_72', 'user_83', 'user_73', 'user_9', 'user_82', 'user_54', 'user_92', 'user_3', 'user_61', 'user_64', 'user_25', 'user_23', 'user_51', 'user_90', 'user_4', 'user_50', 'user_20', 'user_7', 'user_55', 'user_1', 'user_40', 'user_97', 'user_52', 'user_76', 'user_8', 'user_29', 'user_93', 'user_18', 'user_57', 'user_74', 'user_88', 'user_78', 'user_21', 'user_10', 'user_13', 'user_79', 'user_31', 'user_56', 'user_71', 'user_62'}\n"
     ]
    }
   ],
   "source": [
    "prompt = \"Find users about to graduate\"\n",
    "rules = extract_rules_from_prompt_llm2(prompt)\n",
    "print(\"Extracted Persona Rule:\", rules)\n",
    "\n",
    "audience = apply_persona_to_graph(G, rules[\"persona\"])\n",
    "print(\"Final Audience:\", audience)"
   ]
  },
  {
   "cell_type": "code",
   "execution_count": null,
   "id": "b81a119d-5cce-4afa-b883-b2e41c110e6b",
   "metadata": {},
   "outputs": [],
   "source": [
    "matcher = SemanticMatcher(G)"
   ]
  },
  {
   "cell_type": "code",
   "execution_count": 21,
   "id": "976ce493-a22c-4c1c-8564-d7f050e1bc9d",
   "metadata": {},
   "outputs": [
    {
     "name": "stdout",
     "output_type": "stream",
     "text": [
      "\n",
      "🔍 Semantic matches for: 'finance' (threshold=0.4)\n",
      "→ finance (score: 1.000)\n",
      "→ blockchain (score: 0.447)\n",
      "→ crypto (score: 0.412)\n",
      "→ technology (score: 0.402)\n",
      "Expanded: ['finance', 'blockchain', 'crypto', 'technology']\n",
      "\n",
      "🔍 Semantic matches for: 'crypto' (threshold=0.4)\n",
      "→ crypto (score: 1.000)\n",
      "→ blockchain (score: 0.576)\n",
      "→ finance (score: 0.412)\n",
      "Expanded: ['crypto', 'blockchain', 'finance']\n"
     ]
    }
   ],
   "source": [
    "expanded = matcher.expand(\"finance\", verbose=True )\n",
    "print(\"Expanded:\", expanded)\n",
    "\n",
    "expanded = matcher.expand(\"crypto\", verbose=True )\n",
    "print(\"Expanded:\", expanded)"
   ]
  },
  {
   "cell_type": "code",
   "execution_count": 16,
   "id": "62429320-ce66-4414-9c40-de64d99e5099",
   "metadata": {},
   "outputs": [
    {
     "name": "stdout",
     "output_type": "stream",
     "text": [
      "crypto               → score: 1.000\n",
      "blockchain           → score: 0.576\n",
      "finance              → score: 0.412\n",
      "technology           → score: 0.336\n",
      "ai                   → score: 0.300\n",
      "news                 → score: 0.249\n",
      "sports               → score: 0.240\n",
      "fitness              → score: 0.186\n",
      "yoga                 → score: 0.174\n"
     ]
    }
   ],
   "source": [
    "query = \"crypto\"\n",
    "query_embedding = matcher.model.encode(query, convert_to_tensor=True)\n",
    "scores = util.cos_sim(query_embedding, matcher.kg_embeddings)[0]\n",
    "\n",
    "scored_terms = list(zip(matcher.kg_terms, scores.tolist()))\n",
    "scored_terms.sort(key=lambda x: x[1], reverse=True)\n",
    "\n",
    "for term, score in scored_terms[:10]:\n",
    "    print(f\"{term:20s} → score: {score:.3f}\")"
   ]
  },
  {
   "cell_type": "code",
   "execution_count": 22,
   "id": "4e4bbabd-7266-4ebc-83fa-dad33f072103",
   "metadata": {},
   "outputs": [
    {
     "name": "stdout",
     "output_type": "stream",
     "text": [
      "Extracted Rules: {'rules': [{'name': 'Crypto Enthusiasts', 'conditions': {'or': [{'field': 'tag', 'in': ['crypto']}, {'field': 'genre', 'in': ['blockchain']}]}}]}\n",
      "\n",
      "🔍 Audience: Crypto Enthusiasts\n",
      "🎯 Users: {'user_69', 'user_84', 'user_19', 'user_46', 'user_35', 'user_60', 'user_96', 'user_73', 'user_38', 'user_6', 'user_33', 'user_95', 'user_43', 'user_64', 'user_23', 'user_4', 'user_50', 'user_20', 'user_8', 'user_45', 'user_93', 'user_88', 'user_21', 'user_79', 'user_75', 'user_67', 'user_89', 'user_99', 'user_27', 'user_30', 'user_16', 'user_5', 'user_49', 'user_15', 'user_47', 'user_54', 'user_17', 'user_86', 'user_44', 'user_97', 'user_76', 'user_12', 'user_18', 'user_57', 'user_32', 'user_24', 'user_71', 'user_63', 'user_80', 'user_39', 'user_91', 'user_48', 'user_0', 'user_26', 'user_72', 'user_83', 'user_9', 'user_66', 'user_81', 'user_90', 'user_55', 'user_1', 'user_94', 'user_52', 'user_29', 'user_58', 'user_78', 'user_10', 'user_56', 'user_62', 'user_87', 'user_22', 'user_59', 'user_14', 'user_68', 'user_70', 'user_2', 'user_28', 'user_77', 'user_36', 'user_82', 'user_92', 'user_3', 'user_61', 'user_11', 'user_25', 'user_51', 'user_7', 'user_40', 'user_74', 'user_13', 'user_31', 'user_85'}\n"
     ]
    }
   ],
   "source": [
    "rules_obj = extract_rules_from_prompt_llm3(\"Find crypto enthusiasts\")\n",
    "\n",
    "print(\"Extracted Rules:\", rules_obj)\n",
    "\n",
    "for rule in rules_obj.get(\"rules\", []):\n",
    "    print(f\"\\n🔍 Audience: {rule['name']}\")\n",
    "    audience = apply_logical_rule(G, rule, matcher=matcher)\n",
    "    print(f\"🎯 Users: {audience}\")"
   ]
  },
  {
   "cell_type": "code",
   "execution_count": 23,
   "id": "1969735b-01fb-48d4-a73d-23852733a309",
   "metadata": {},
   "outputs": [
    {
     "name": "stdout",
     "output_type": "stream",
     "text": [
      "Extracted Rules: {'rules': [{'name': 'Crypto Enthusiasts', 'conditions': {'or': [{'field': 'tag', 'in': ['crypto']}, {'field': 'genre', 'in': ['finance', 'tech', 'cryptocurrency']}]}}]}\n",
      "\n",
      "🔍 Audience: Crypto Enthusiasts\n",
      "🎯 Users: {'user_69', 'user_84', 'user_19', 'user_46', 'user_35', 'user_60', 'user_96', 'user_73', 'user_38', 'user_6', 'user_33', 'user_95', 'user_43', 'user_64', 'user_23', 'user_4', 'user_50', 'user_20', 'user_53', 'user_8', 'user_34', 'user_45', 'user_93', 'user_88', 'user_21', 'user_79', 'user_75', 'user_67', 'user_89', 'user_99', 'user_27', 'user_30', 'user_16', 'user_5', 'user_49', 'user_15', 'user_47', 'user_98', 'user_54', 'user_17', 'user_86', 'user_44', 'user_97', 'user_76', 'user_12', 'user_18', 'user_57', 'user_32', 'user_24', 'user_71', 'user_63', 'user_80', 'user_39', 'user_91', 'user_48', 'user_0', 'user_26', 'user_72', 'user_83', 'user_9', 'user_66', 'user_81', 'user_90', 'user_55', 'user_1', 'user_94', 'user_52', 'user_29', 'user_58', 'user_78', 'user_10', 'user_65', 'user_56', 'user_62', 'user_87', 'user_22', 'user_59', 'user_14', 'user_68', 'user_70', 'user_2', 'user_28', 'user_77', 'user_36', 'user_82', 'user_92', 'user_3', 'user_61', 'user_11', 'user_25', 'user_41', 'user_51', 'user_7', 'user_40', 'user_74', 'user_13', 'user_31', 'user_85'}\n"
     ]
    }
   ],
   "source": [
    "rules_obj = extract_rules_from_prompt_llm3(\"Find crypto enthusiasts\")\n",
    "\n",
    "print(\"Extracted Rules:\", rules_obj)\n",
    "\n",
    "for rule in rules_obj.get(\"rules\", []):\n",
    "    print(f\"\\n🔍 Audience: {rule['name']}\")\n",
    "    audience = apply_logical_rule(G, rule, matcher=matcher)\n",
    "    print(f\"🎯 Users: {audience}\")"
   ]
  },
  {
   "cell_type": "code",
   "execution_count": 24,
   "id": "9a4a70d7-06da-46e2-9198-08ada0356bdf",
   "metadata": {},
   "outputs": [
    {
     "name": "stdout",
     "output_type": "stream",
     "text": [
      "Extracted Rules: {'rules': [{'name': 'Crypto Enthusiasts', 'conditions': {'or': [{'field': 'tag', 'in': ['crypto']}, {'field': 'genre', 'in': ['crypto', 'blockchain']}]}}]}\n",
      "\n",
      "🔍 Audience: Crypto Enthusiasts\n",
      "🎯 Users: {'user_69', 'user_84', 'user_19', 'user_46', 'user_35', 'user_60', 'user_96', 'user_73', 'user_38', 'user_6', 'user_33', 'user_95', 'user_43', 'user_64', 'user_23', 'user_4', 'user_50', 'user_20', 'user_8', 'user_45', 'user_93', 'user_88', 'user_21', 'user_79', 'user_75', 'user_67', 'user_89', 'user_99', 'user_27', 'user_30', 'user_16', 'user_5', 'user_49', 'user_15', 'user_47', 'user_54', 'user_17', 'user_86', 'user_44', 'user_97', 'user_76', 'user_12', 'user_18', 'user_57', 'user_32', 'user_24', 'user_71', 'user_63', 'user_80', 'user_39', 'user_91', 'user_48', 'user_0', 'user_26', 'user_72', 'user_83', 'user_9', 'user_66', 'user_81', 'user_90', 'user_55', 'user_1', 'user_94', 'user_52', 'user_29', 'user_58', 'user_78', 'user_10', 'user_56', 'user_62', 'user_87', 'user_22', 'user_59', 'user_14', 'user_68', 'user_70', 'user_2', 'user_28', 'user_77', 'user_36', 'user_82', 'user_92', 'user_3', 'user_61', 'user_11', 'user_25', 'user_51', 'user_7', 'user_40', 'user_74', 'user_13', 'user_31', 'user_85'}\n"
     ]
    }
   ],
   "source": [
    "rules_obj = extract_rules_from_prompt_llm3(\"Find crypto enthusiasts\")\n",
    "\n",
    "print(\"Extracted Rules:\", rules_obj)\n",
    "\n",
    "for rule in rules_obj.get(\"rules\", []):\n",
    "    print(f\"\\n🔍 Audience: {rule['name']}\")\n",
    "    audience = apply_logical_rule(G, rule, matcher=matcher)\n",
    "    print(f\"🎯 Users: {audience}\")"
   ]
  },
  {
   "cell_type": "code",
   "execution_count": 25,
   "id": "c79678e9-d569-4037-9a4e-f6cf869e367e",
   "metadata": {},
   "outputs": [
    {
     "name": "stdout",
     "output_type": "stream",
     "text": [
      "Extracted Rules: {'rules': [{'name': 'Investors', 'conditions': {'and': [{'field': 'age', 'operator': '>', 'value': 18}, {'or': [{'field': 'tag', 'in': ['investing', 'stocks', 'bonds']}, {'field': 'genre', 'in': ['finance', 'business']}]}]}}, {'name': 'Young Investors', 'conditions': {'and': [{'field': 'age', 'operator': 'between', 'value': [18, 30]}, {'or': [{'field': 'tag', 'in': ['investing', 'stocks', 'bonds']}, {'field': 'genre', 'in': ['finance', 'business']}]}]}}, {'name': 'Female Investors', 'conditions': {'and': [{'field': 'gender', 'operator': '=', 'value': 'female'}, {'or': [{'field': 'tag', 'in': ['investing', 'stocks', 'bonds']}, {'field': 'genre', 'in': ['finance', 'business']}]}]}}]}\n",
      "\n",
      "🔍 Audience: Investors\n",
      "🎯 Users: set()\n",
      "\n",
      "🔍 Audience: Young Investors\n",
      "🎯 Users: set()\n",
      "\n",
      "🔍 Audience: Female Investors\n",
      "🎯 Users: set()\n"
     ]
    }
   ],
   "source": [
    "rules_obj = extract_rules_from_prompt_llm3(\"Find users interested in investing\")\n",
    "\n",
    "print(\"Extracted Rules:\", rules_obj)\n",
    "\n",
    "for rule in rules_obj.get(\"rules\", []):\n",
    "    print(f\"\\n🔍 Audience: {rule['name']}\")\n",
    "    audience = apply_logical_rule(G, rule, matcher=matcher)\n",
    "    print(f\"🎯 Users: {audience}\")"
   ]
  },
  {
   "cell_type": "code",
   "execution_count": 26,
   "id": "89ee255f-8d4a-43b2-bb46-fc371103d2ec",
   "metadata": {},
   "outputs": [
    {
     "name": "stdout",
     "output_type": "stream",
     "text": [
      "Extracted Rules: {'rules': [{'name': 'Users nearing retirement', 'conditions': {'and': [{'field': 'age', 'operator': '>=', 'value': 55}, {'field': 'age', 'operator': '<', 'value': 70}]}}]}\n",
      "\n",
      "🔍 Audience: Users nearing retirement\n",
      "🎯 Users: set()\n"
     ]
    }
   ],
   "source": [
    "rules_obj = extract_rules_from_prompt_llm3(\"Find users who are about to retire\")\n",
    "\n",
    "print(\"Extracted Rules:\", rules_obj)\n",
    "\n",
    "for rule in rules_obj.get(\"rules\", []):\n",
    "    print(f\"\\n🔍 Audience: {rule['name']}\")\n",
    "    audience = apply_logical_rule(G, rule, matcher=matcher)\n",
    "    print(f\"🎯 Users: {audience}\")"
   ]
  },
  {
   "cell_type": "code",
   "execution_count": 27,
   "id": "737f01c6-4c17-4313-bc2d-95c422f80a3b",
   "metadata": {},
   "outputs": [
    {
     "name": "stdout",
     "output_type": "stream",
     "text": [
      "Extracted Rules: {'rules': [{'name': 'Users nearing retirement', 'conditions': {'and': [{'field': 'age', 'operator': '>=', 'value': 55}, {'field': 'location', 'operator': 'in', 'value': ['USA', 'Canada', 'Europe']}]}}, {'name': 'Tech-savvy young users', 'conditions': {'and': [{'field': 'age', 'operator': '<', 'value': 30}, {'field': 'tag', 'in': ['gaming', 'mobile']}, {'field': 'gender', 'operator': 'in', 'value': ['male', 'female']}]}}, {'name': 'Interested in finance and arts', 'conditions': {'and': [{'field': 'age', 'operator': '>', 'value': 35}, {'field': 'genre', 'in': ['finance', 'investment']}, {'field': 'tag', 'in': ['painting', 'sculpture']}]}}]}\n",
      "\n",
      "🔍 Audience: Users nearing retirement\n",
      "🎯 Users: set()\n",
      "\n",
      "🔍 Audience: Tech-savvy young users\n",
      "🎯 Users: set()\n",
      "\n",
      "🔍 Audience: Interested in finance and arts\n",
      "🎯 Users: set()\n"
     ]
    }
   ],
   "source": [
    "rules_obj = extract_rules_from_prompt_llm3(\"Find users who are about to retire. Don't limit only on age as criteria\")\n",
    "\n",
    "print(\"Extracted Rules:\", rules_obj)\n",
    "\n",
    "for rule in rules_obj.get(\"rules\", []):\n",
    "    print(f\"\\n🔍 Audience: {rule['name']}\")\n",
    "    audience = apply_logical_rule(G, rule, matcher=matcher)\n",
    "    print(f\"🎯 Users: {audience}\")"
   ]
  },
  {
   "cell_type": "code",
   "execution_count": null,
   "id": "fe32137c-ccda-444b-838a-1863b50ab9ec",
   "metadata": {},
   "outputs": [],
   "source": []
  }
 ],
 "metadata": {
  "kernelspec": {
   "display_name": "Python 3 (ipykernel)",
   "language": "python",
   "name": "python3"
  },
  "language_info": {
   "codemirror_mode": {
    "name": "ipython",
    "version": 3
   },
   "file_extension": ".py",
   "mimetype": "text/x-python",
   "name": "python",
   "nbconvert_exporter": "python",
   "pygments_lexer": "ipython3",
   "version": "3.12.9"
  }
 },
 "nbformat": 4,
 "nbformat_minor": 5
}
